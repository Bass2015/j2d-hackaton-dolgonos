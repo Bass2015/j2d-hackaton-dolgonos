{
 "cells": [
  {
   "cell_type": "code",
   "execution_count": 7,
   "metadata": {},
   "outputs": [
    {
     "data": {
      "text/html": [
       "<div>\n",
       "<style scoped>\n",
       "    .dataframe tbody tr th:only-of-type {\n",
       "        vertical-align: middle;\n",
       "    }\n",
       "\n",
       "    .dataframe tbody tr th {\n",
       "        vertical-align: top;\n",
       "    }\n",
       "\n",
       "    .dataframe thead th {\n",
       "        text-align: right;\n",
       "    }\n",
       "</style>\n",
       "<table border=\"1\" class=\"dataframe\">\n",
       "  <thead>\n",
       "    <tr style=\"text-align: right;\">\n",
       "      <th></th>\n",
       "      <th>feature1</th>\n",
       "      <th>feature2</th>\n",
       "      <th>feature3</th>\n",
       "      <th>feature4</th>\n",
       "      <th>feature5</th>\n",
       "      <th>feature6</th>\n",
       "      <th>feature7</th>\n",
       "      <th>feature8</th>\n",
       "      <th>target</th>\n",
       "    </tr>\n",
       "  </thead>\n",
       "  <tbody>\n",
       "    <tr>\n",
       "      <th>0</th>\n",
       "      <td>-0.458258</td>\n",
       "      <td>-0.579012</td>\n",
       "      <td>2.886009</td>\n",
       "      <td>-0.075516</td>\n",
       "      <td>1.674060</td>\n",
       "      <td>-2.431912</td>\n",
       "      <td>0.534850</td>\n",
       "      <td>-0.846473</td>\n",
       "      <td>2</td>\n",
       "    </tr>\n",
       "    <tr>\n",
       "      <th>1</th>\n",
       "      <td>1.626615</td>\n",
       "      <td>-0.028332</td>\n",
       "      <td>-1.443184</td>\n",
       "      <td>-1.007447</td>\n",
       "      <td>-0.989093</td>\n",
       "      <td>1.202627</td>\n",
       "      <td>-0.038211</td>\n",
       "      <td>-1.298616</td>\n",
       "      <td>0</td>\n",
       "    </tr>\n",
       "    <tr>\n",
       "      <th>2</th>\n",
       "      <td>1.721356</td>\n",
       "      <td>-0.137676</td>\n",
       "      <td>-1.322593</td>\n",
       "      <td>-1.333187</td>\n",
       "      <td>-0.723713</td>\n",
       "      <td>0.843285</td>\n",
       "      <td>-0.588495</td>\n",
       "      <td>0.066682</td>\n",
       "      <td>0</td>\n",
       "    </tr>\n",
       "    <tr>\n",
       "      <th>3</th>\n",
       "      <td>-0.715103</td>\n",
       "      <td>3.265915</td>\n",
       "      <td>-0.791030</td>\n",
       "      <td>-2.967881</td>\n",
       "      <td>2.497628</td>\n",
       "      <td>-0.277387</td>\n",
       "      <td>-0.551611</td>\n",
       "      <td>0.668354</td>\n",
       "      <td>2</td>\n",
       "    </tr>\n",
       "    <tr>\n",
       "      <th>4</th>\n",
       "      <td>2.944098</td>\n",
       "      <td>0.197871</td>\n",
       "      <td>-2.257025</td>\n",
       "      <td>1.032789</td>\n",
       "      <td>-4.104693</td>\n",
       "      <td>4.716115</td>\n",
       "      <td>-0.380813</td>\n",
       "      <td>-1.393825</td>\n",
       "      <td>0</td>\n",
       "    </tr>\n",
       "  </tbody>\n",
       "</table>\n",
       "</div>"
      ],
      "text/plain": [
       "   feature1  feature2  feature3  feature4  ...  feature6  feature7  feature8  target\n",
       "0 -0.458258 -0.579012  2.886009 -0.075516  ... -2.431912  0.534850 -0.846473       2\n",
       "1  1.626615 -0.028332 -1.443184 -1.007447  ...  1.202627 -0.038211 -1.298616       0\n",
       "2  1.721356 -0.137676 -1.322593 -1.333187  ...  0.843285 -0.588495  0.066682       0\n",
       "3 -0.715103  3.265915 -0.791030 -2.967881  ... -0.277387 -0.551611  0.668354       2\n",
       "4  2.944098  0.197871 -2.257025  1.032789  ...  4.716115 -0.380813 -1.393825       0\n",
       "\n",
       "[5 rows x 9 columns]"
      ]
     },
     "execution_count": 7,
     "metadata": {},
     "output_type": "execute_result"
    }
   ],
   "source": [
    "import inout\n",
    "import pandas as pd\n",
    "from app import SAVED_MODEL\n",
    "from model import AirQualityClassifier\n",
    "\n",
    "classifier = AirQualityClassifier(inout.load_model_from_pickle(SAVED_MODEL))\n",
    "df = pd.read_csv('../data/train.csv', sep=';')\n",
    "df.head()"
   ]
  },
  {
   "cell_type": "code",
   "execution_count": 8,
   "metadata": {},
   "outputs": [],
   "source": [
    "\n",
    "data = df.drop('target', axis=1)\n",
    "target = df['target']"
   ]
  },
  {
   "cell_type": "code",
   "execution_count": 9,
   "metadata": {},
   "outputs": [
    {
     "data": {
      "text/plain": [
       "0.9757142857142858"
      ]
     },
     "execution_count": 9,
     "metadata": {},
     "output_type": "execute_result"
    }
   ],
   "source": [
    "classifier.model.best_estimator_.score(data, target)"
   ]
  },
  {
   "cell_type": "code",
   "execution_count": null,
   "metadata": {},
   "outputs": [],
   "source": []
  }
 ],
 "metadata": {
  "kernelspec": {
   "display_name": "Python 3.10.4 ('ds')",
   "language": "python",
   "name": "python3"
  },
  "language_info": {
   "codemirror_mode": {
    "name": "ipython",
    "version": 3
   },
   "file_extension": ".py",
   "mimetype": "text/x-python",
   "name": "python",
   "nbconvert_exporter": "python",
   "pygments_lexer": "ipython3",
   "version": "3.10.4"
  },
  "orig_nbformat": 4,
  "vscode": {
   "interpreter": {
    "hash": "51fb76d8006b5ab0e0c4fcd365bc9e8f1c8f496fafcc4f75d4d513b2517b500d"
   }
  }
 },
 "nbformat": 4,
 "nbformat_minor": 2
}
