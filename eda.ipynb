{
 "cells": [
  {
   "cell_type": "code",
   "execution_count": 2,
   "metadata": {},
   "outputs": [
    {
     "data": {
      "text/html": [
       "<div>\n",
       "<style scoped>\n",
       "    .dataframe tbody tr th:only-of-type {\n",
       "        vertical-align: middle;\n",
       "    }\n",
       "\n",
       "    .dataframe tbody tr th {\n",
       "        vertical-align: top;\n",
       "    }\n",
       "\n",
       "    .dataframe thead th {\n",
       "        text-align: right;\n",
       "    }\n",
       "</style>\n",
       "<table border=\"1\" class=\"dataframe\">\n",
       "  <thead>\n",
       "    <tr style=\"text-align: right;\">\n",
       "      <th></th>\n",
       "      <th>feature1</th>\n",
       "      <th>feature2</th>\n",
       "      <th>feature3</th>\n",
       "      <th>feature4</th>\n",
       "      <th>feature5</th>\n",
       "      <th>feature6</th>\n",
       "      <th>feature7</th>\n",
       "      <th>feature8</th>\n",
       "      <th>target</th>\n",
       "    </tr>\n",
       "  </thead>\n",
       "  <tbody>\n",
       "    <tr>\n",
       "      <th>0</th>\n",
       "      <td>-0.458258</td>\n",
       "      <td>-0.579012</td>\n",
       "      <td>2.886009</td>\n",
       "      <td>-0.075516</td>\n",
       "      <td>1.674060</td>\n",
       "      <td>-2.431912</td>\n",
       "      <td>0.534850</td>\n",
       "      <td>-0.846473</td>\n",
       "      <td>2</td>\n",
       "    </tr>\n",
       "    <tr>\n",
       "      <th>1</th>\n",
       "      <td>1.626615</td>\n",
       "      <td>-0.028332</td>\n",
       "      <td>-1.443184</td>\n",
       "      <td>-1.007447</td>\n",
       "      <td>-0.989093</td>\n",
       "      <td>1.202627</td>\n",
       "      <td>-0.038211</td>\n",
       "      <td>-1.298616</td>\n",
       "      <td>0</td>\n",
       "    </tr>\n",
       "    <tr>\n",
       "      <th>2</th>\n",
       "      <td>1.721356</td>\n",
       "      <td>-0.137676</td>\n",
       "      <td>-1.322593</td>\n",
       "      <td>-1.333187</td>\n",
       "      <td>-0.723713</td>\n",
       "      <td>0.843285</td>\n",
       "      <td>-0.588495</td>\n",
       "      <td>0.066682</td>\n",
       "      <td>0</td>\n",
       "    </tr>\n",
       "    <tr>\n",
       "      <th>3</th>\n",
       "      <td>-0.715103</td>\n",
       "      <td>3.265915</td>\n",
       "      <td>-0.791030</td>\n",
       "      <td>-2.967881</td>\n",
       "      <td>2.497628</td>\n",
       "      <td>-0.277387</td>\n",
       "      <td>-0.551611</td>\n",
       "      <td>0.668354</td>\n",
       "      <td>2</td>\n",
       "    </tr>\n",
       "    <tr>\n",
       "      <th>4</th>\n",
       "      <td>2.944098</td>\n",
       "      <td>0.197871</td>\n",
       "      <td>-2.257025</td>\n",
       "      <td>1.032789</td>\n",
       "      <td>-4.104693</td>\n",
       "      <td>4.716115</td>\n",
       "      <td>-0.380813</td>\n",
       "      <td>-1.393825</td>\n",
       "      <td>0</td>\n",
       "    </tr>\n",
       "  </tbody>\n",
       "</table>\n",
       "</div>"
      ],
      "text/plain": [
       "   feature1  feature2  feature3  feature4  feature5  feature6  feature7  \\\n",
       "0 -0.458258 -0.579012  2.886009 -0.075516  1.674060 -2.431912  0.534850   \n",
       "1  1.626615 -0.028332 -1.443184 -1.007447 -0.989093  1.202627 -0.038211   \n",
       "2  1.721356 -0.137676 -1.322593 -1.333187 -0.723713  0.843285 -0.588495   \n",
       "3 -0.715103  3.265915 -0.791030 -2.967881  2.497628 -0.277387 -0.551611   \n",
       "4  2.944098  0.197871 -2.257025  1.032789 -4.104693  4.716115 -0.380813   \n",
       "\n",
       "   feature8  target  \n",
       "0 -0.846473       2  \n",
       "1 -1.298616       0  \n",
       "2  0.066682       0  \n",
       "3  0.668354       2  \n",
       "4 -1.393825       0  "
      ]
     },
     "execution_count": 2,
     "metadata": {},
     "output_type": "execute_result"
    }
   ],
   "source": [
    "import pandas as pd\n",
    "from sklearn.ensemble import RandomForestClassifier\n",
    "from sklearn.tree import DecisionTreeClassifier\n",
    "from sklearn.model_selection import train_test_split, GridSearchCV\n",
    "\n",
    "train_df = pd.read_csv('./data/train.csv', sep=';')\n",
    "train_df.head()"
   ]
  },
  {
   "cell_type": "code",
   "execution_count": 3,
   "metadata": {},
   "outputs": [
    {
     "data": {
      "text/html": [
       "<div>\n",
       "<style scoped>\n",
       "    .dataframe tbody tr th:only-of-type {\n",
       "        vertical-align: middle;\n",
       "    }\n",
       "\n",
       "    .dataframe tbody tr th {\n",
       "        vertical-align: top;\n",
       "    }\n",
       "\n",
       "    .dataframe thead th {\n",
       "        text-align: right;\n",
       "    }\n",
       "</style>\n",
       "<table border=\"1\" class=\"dataframe\">\n",
       "  <thead>\n",
       "    <tr style=\"text-align: right;\">\n",
       "      <th></th>\n",
       "      <th>feature1</th>\n",
       "      <th>feature2</th>\n",
       "      <th>feature3</th>\n",
       "      <th>feature4</th>\n",
       "      <th>feature5</th>\n",
       "      <th>feature6</th>\n",
       "      <th>feature7</th>\n",
       "      <th>feature8</th>\n",
       "      <th>target</th>\n",
       "    </tr>\n",
       "  </thead>\n",
       "  <tbody>\n",
       "    <tr>\n",
       "      <th>count</th>\n",
       "      <td>2100.000000</td>\n",
       "      <td>2100.000000</td>\n",
       "      <td>2100.000000</td>\n",
       "      <td>2100.000000</td>\n",
       "      <td>2100.000000</td>\n",
       "      <td>2100.000000</td>\n",
       "      <td>2100.000000</td>\n",
       "      <td>2100.000000</td>\n",
       "      <td>2100.000000</td>\n",
       "    </tr>\n",
       "    <tr>\n",
       "      <th>mean</th>\n",
       "      <td>-0.318846</td>\n",
       "      <td>0.005348</td>\n",
       "      <td>-0.327567</td>\n",
       "      <td>0.024042</td>\n",
       "      <td>0.085851</td>\n",
       "      <td>-0.065000</td>\n",
       "      <td>-0.025603</td>\n",
       "      <td>-0.004437</td>\n",
       "      <td>0.985238</td>\n",
       "    </tr>\n",
       "    <tr>\n",
       "      <th>std</th>\n",
       "      <td>1.575061</td>\n",
       "      <td>1.605428</td>\n",
       "      <td>1.479745</td>\n",
       "      <td>1.548154</td>\n",
       "      <td>1.788543</td>\n",
       "      <td>2.124337</td>\n",
       "      <td>1.015619</td>\n",
       "      <td>1.003342</td>\n",
       "      <td>0.815098</td>\n",
       "    </tr>\n",
       "    <tr>\n",
       "      <th>min</th>\n",
       "      <td>-5.031501</td>\n",
       "      <td>-6.004578</td>\n",
       "      <td>-5.470794</td>\n",
       "      <td>-5.296172</td>\n",
       "      <td>-5.719499</td>\n",
       "      <td>-4.910575</td>\n",
       "      <td>-3.850552</td>\n",
       "      <td>-3.541608</td>\n",
       "      <td>0.000000</td>\n",
       "    </tr>\n",
       "    <tr>\n",
       "      <th>25%</th>\n",
       "      <td>-1.406249</td>\n",
       "      <td>-1.119150</td>\n",
       "      <td>-1.368208</td>\n",
       "      <td>-1.083716</td>\n",
       "      <td>-1.136441</td>\n",
       "      <td>-1.613267</td>\n",
       "      <td>-0.701442</td>\n",
       "      <td>-0.659096</td>\n",
       "      <td>0.000000</td>\n",
       "    </tr>\n",
       "    <tr>\n",
       "      <th>50%</th>\n",
       "      <td>-0.431219</td>\n",
       "      <td>-0.162577</td>\n",
       "      <td>-0.532158</td>\n",
       "      <td>0.152545</td>\n",
       "      <td>0.102788</td>\n",
       "      <td>-0.431328</td>\n",
       "      <td>-0.007598</td>\n",
       "      <td>-0.019797</td>\n",
       "      <td>1.000000</td>\n",
       "    </tr>\n",
       "    <tr>\n",
       "      <th>75%</th>\n",
       "      <td>0.773896</td>\n",
       "      <td>1.127450</td>\n",
       "      <td>0.573801</td>\n",
       "      <td>1.173172</td>\n",
       "      <td>1.507492</td>\n",
       "      <td>1.162813</td>\n",
       "      <td>0.665932</td>\n",
       "      <td>0.667530</td>\n",
       "      <td>2.000000</td>\n",
       "    </tr>\n",
       "    <tr>\n",
       "      <th>max</th>\n",
       "      <td>5.388387</td>\n",
       "      <td>7.663112</td>\n",
       "      <td>4.869581</td>\n",
       "      <td>4.318758</td>\n",
       "      <td>6.033273</td>\n",
       "      <td>7.053420</td>\n",
       "      <td>4.400697</td>\n",
       "      <td>3.579874</td>\n",
       "      <td>2.000000</td>\n",
       "    </tr>\n",
       "  </tbody>\n",
       "</table>\n",
       "</div>"
      ],
      "text/plain": [
       "          feature1     feature2     feature3     feature4     feature5  \\\n",
       "count  2100.000000  2100.000000  2100.000000  2100.000000  2100.000000   \n",
       "mean     -0.318846     0.005348    -0.327567     0.024042     0.085851   \n",
       "std       1.575061     1.605428     1.479745     1.548154     1.788543   \n",
       "min      -5.031501    -6.004578    -5.470794    -5.296172    -5.719499   \n",
       "25%      -1.406249    -1.119150    -1.368208    -1.083716    -1.136441   \n",
       "50%      -0.431219    -0.162577    -0.532158     0.152545     0.102788   \n",
       "75%       0.773896     1.127450     0.573801     1.173172     1.507492   \n",
       "max       5.388387     7.663112     4.869581     4.318758     6.033273   \n",
       "\n",
       "          feature6     feature7     feature8       target  \n",
       "count  2100.000000  2100.000000  2100.000000  2100.000000  \n",
       "mean     -0.065000    -0.025603    -0.004437     0.985238  \n",
       "std       2.124337     1.015619     1.003342     0.815098  \n",
       "min      -4.910575    -3.850552    -3.541608     0.000000  \n",
       "25%      -1.613267    -0.701442    -0.659096     0.000000  \n",
       "50%      -0.431328    -0.007598    -0.019797     1.000000  \n",
       "75%       1.162813     0.665932     0.667530     2.000000  \n",
       "max       7.053420     4.400697     3.579874     2.000000  "
      ]
     },
     "execution_count": 3,
     "metadata": {},
     "output_type": "execute_result"
    }
   ],
   "source": [
    "train_df.describe()"
   ]
  },
  {
   "cell_type": "code",
   "execution_count": 14,
   "metadata": {},
   "outputs": [],
   "source": [
    "split_ratio = 1/((len(train_df.columns)-1)**0.5 +1)\n",
    "\n",
    "data = train_df.drop('target', axis=1)\n",
    "target = train_df['target']\n",
    "\n",
    "X_train, X_test, y_train, y_test = train_test_split(data, target, test_size=split_ratio)\n",
    "print(f'Dataset shape: {train_df.shape}, Train shape: {X_train.shape}, Test shape: {X_test.shape}, Split ratio: {split_ratio:0.2f}')\n"
   ]
  },
  {
   "cell_type": "code",
   "execution_count": 15,
   "metadata": {},
   "outputs": [
    {
     "data": {
      "text/html": [
       "<div>\n",
       "<style scoped>\n",
       "    .dataframe tbody tr th:only-of-type {\n",
       "        vertical-align: middle;\n",
       "    }\n",
       "\n",
       "    .dataframe tbody tr th {\n",
       "        vertical-align: top;\n",
       "    }\n",
       "\n",
       "    .dataframe thead th {\n",
       "        text-align: right;\n",
       "    }\n",
       "</style>\n",
       "<table border=\"1\" class=\"dataframe\">\n",
       "  <thead>\n",
       "    <tr style=\"text-align: right;\">\n",
       "      <th></th>\n",
       "      <th>feature1</th>\n",
       "      <th>feature2</th>\n",
       "      <th>feature3</th>\n",
       "      <th>feature4</th>\n",
       "      <th>feature5</th>\n",
       "      <th>feature6</th>\n",
       "      <th>feature7</th>\n",
       "      <th>feature8</th>\n",
       "    </tr>\n",
       "  </thead>\n",
       "  <tbody>\n",
       "    <tr>\n",
       "      <th>1341</th>\n",
       "      <td>-1.212013</td>\n",
       "      <td>-0.609208</td>\n",
       "      <td>1.487657</td>\n",
       "      <td>1.041751</td>\n",
       "      <td>0.710889</td>\n",
       "      <td>-1.345411</td>\n",
       "      <td>-1.545221</td>\n",
       "      <td>0.891440</td>\n",
       "    </tr>\n",
       "    <tr>\n",
       "      <th>1588</th>\n",
       "      <td>0.684937</td>\n",
       "      <td>-1.913205</td>\n",
       "      <td>-1.768760</td>\n",
       "      <td>-0.735798</td>\n",
       "      <td>-0.487532</td>\n",
       "      <td>-0.625194</td>\n",
       "      <td>0.204803</td>\n",
       "      <td>0.393794</td>\n",
       "    </tr>\n",
       "    <tr>\n",
       "      <th>341</th>\n",
       "      <td>-1.259370</td>\n",
       "      <td>0.730515</td>\n",
       "      <td>-0.795840</td>\n",
       "      <td>-3.236573</td>\n",
       "      <td>3.342962</td>\n",
       "      <td>-2.929445</td>\n",
       "      <td>0.228468</td>\n",
       "      <td>-0.559696</td>\n",
       "    </tr>\n",
       "    <tr>\n",
       "      <th>514</th>\n",
       "      <td>-2.286474</td>\n",
       "      <td>-1.602760</td>\n",
       "      <td>-1.383230</td>\n",
       "      <td>2.950145</td>\n",
       "      <td>-1.225892</td>\n",
       "      <td>0.214311</td>\n",
       "      <td>-0.748322</td>\n",
       "      <td>-0.644301</td>\n",
       "    </tr>\n",
       "    <tr>\n",
       "      <th>744</th>\n",
       "      <td>-1.331119</td>\n",
       "      <td>-1.360003</td>\n",
       "      <td>-2.043695</td>\n",
       "      <td>1.255662</td>\n",
       "      <td>-0.805056</td>\n",
       "      <td>0.043107</td>\n",
       "      <td>1.591513</td>\n",
       "      <td>-0.096041</td>\n",
       "    </tr>\n",
       "  </tbody>\n",
       "</table>\n",
       "</div>"
      ],
      "text/plain": [
       "      feature1  feature2  feature3  feature4  feature5  feature6  feature7  \\\n",
       "1341 -1.212013 -0.609208  1.487657  1.041751  0.710889 -1.345411 -1.545221   \n",
       "1588  0.684937 -1.913205 -1.768760 -0.735798 -0.487532 -0.625194  0.204803   \n",
       "341  -1.259370  0.730515 -0.795840 -3.236573  3.342962 -2.929445  0.228468   \n",
       "514  -2.286474 -1.602760 -1.383230  2.950145 -1.225892  0.214311 -0.748322   \n",
       "744  -1.331119 -1.360003 -2.043695  1.255662 -0.805056  0.043107  1.591513   \n",
       "\n",
       "      feature8  \n",
       "1341  0.891440  \n",
       "1588  0.393794  \n",
       "341  -0.559696  \n",
       "514  -0.644301  \n",
       "744  -0.096041  "
      ]
     },
     "execution_count": 15,
     "metadata": {},
     "output_type": "execute_result"
    }
   ],
   "source": [
    "X_train, y_train, _, _ = splitted\n",
    "\n",
    "X_train.head()"
   ]
  },
  {
   "cell_type": "code",
   "execution_count": 5,
   "metadata": {},
   "outputs": [
    {
     "data": {
      "text/plain": [
       "0.848816029143898"
      ]
     },
     "execution_count": 5,
     "metadata": {},
     "output_type": "execute_result"
    }
   ],
   "source": [
    "model = DecisionTreeClassifier()\n",
    "model.fit(X_train, y_train)\n",
    "model.score(X_test, y_test)"
   ]
  },
  {
   "cell_type": "code",
   "execution_count": 6,
   "metadata": {},
   "outputs": [
    {
     "data": {
      "text/plain": [
       "15"
      ]
     },
     "execution_count": 6,
     "metadata": {},
     "output_type": "execute_result"
    }
   ],
   "source": [
    "model.get_depth()"
   ]
  },
  {
   "cell_type": "code",
   "execution_count": 12,
   "metadata": {},
   "outputs": [
    {
     "name": "stdout",
     "output_type": "stream",
     "text": [
      "Fitting 5 folds for each of 12 candidates, totalling 60 fits\n"
     ]
    },
    {
     "data": {
      "text/plain": [
       "GridSearchCV(cv=5, estimator=RandomForestClassifier(),\n",
       "             param_grid={'criterion': ['gini', 'entropy'],\n",
       "                         'max_features': ['sqrt', 0.33, 0.4, 0.66, 0.8, 1]},\n",
       "             verbose=True)"
      ]
     },
     "execution_count": 12,
     "metadata": {},
     "output_type": "execute_result"
    }
   ],
   "source": [
    "params = {'max_depth': range(10, 18, 2), \n",
    "          'n_estimators': 1000,\n",
    "          'criterion':['gini', 'entropy'], \n",
    "          'max_features': ['sqrt', 0.33,0.4,0.66,0.8,1]\n",
    "        }\n",
    "params = {'criterion':['gini', 'entropy'], \n",
    "          'max_features': ['sqrt', 0.33,0.4,0.66,0.8,1]\n",
    "        }\n",
    "grid = GridSearchCV(RandomForestClassifier(),\n",
    "                    params, \n",
    "                    cv=5,\n",
    "                    verbose=True)\n",
    "grid.fit(X_train, y_train)"
   ]
  },
  {
   "cell_type": "code",
   "execution_count": 8,
   "metadata": {},
   "outputs": [
    {
     "data": {
      "text/plain": [
       "{'bootstrap': True,\n",
       " 'ccp_alpha': 0.0,\n",
       " 'class_weight': None,\n",
       " 'criterion': 'entropy',\n",
       " 'max_depth': 14,\n",
       " 'max_features': 0.8,\n",
       " 'max_leaf_nodes': None,\n",
       " 'max_samples': None,\n",
       " 'min_impurity_decrease': 0.0,\n",
       " 'min_samples_leaf': 1,\n",
       " 'min_samples_split': 2,\n",
       " 'min_weight_fraction_leaf': 0.0,\n",
       " 'n_estimators': 100,\n",
       " 'n_jobs': None,\n",
       " 'oob_score': False,\n",
       " 'random_state': None,\n",
       " 'verbose': 0,\n",
       " 'warm_start': False}"
      ]
     },
     "execution_count": 8,
     "metadata": {},
     "output_type": "execute_result"
    }
   ],
   "source": [
    "best_model = grid.best_estimator_\n",
    "best_model.score(X_test, y_test)\n",
    "best_model.get_params()"
   ]
  },
  {
   "cell_type": "code",
   "execution_count": 9,
   "metadata": {},
   "outputs": [
    {
     "ename": "TypeError",
     "evalue": "Sorting not supported. Please pass sort=False",
     "output_type": "error",
     "traceback": [
      "\u001b[0;31m---------------------------------------------------------------------------\u001b[0m",
      "\u001b[0;31mTypeError\u001b[0m                                 Traceback (most recent call last)",
      "File \u001b[0;32m~/anaconda3/envs/ds/lib/python3.10/site-packages/sklearn_evaluation/util.py:91\u001b[0m, in \u001b[0;36m_sorted_map_iter\u001b[0;34m(d, sort)\u001b[0m\n\u001b[1;32m     90\u001b[0m \u001b[39mtry\u001b[39;00m:\n\u001b[0;32m---> 91\u001b[0m     ord_keys \u001b[39m=\u001b[39m \u001b[39msorted\u001b[39;49m(d\u001b[39m.\u001b[39;49mkeys())\n\u001b[1;32m     92\u001b[0m \u001b[39mexcept\u001b[39;00m \u001b[39mTypeError\u001b[39;00m \u001b[39mas\u001b[39;00m e:\n",
      "\u001b[0;31mTypeError\u001b[0m: '<' not supported between instances of 'float' and 'str'",
      "\nThe above exception was the direct cause of the following exception:\n",
      "\u001b[0;31mTypeError\u001b[0m                                 Traceback (most recent call last)",
      "\u001b[1;32m/Users/wildbass/Documents/DataScience/se-hackaton/eda.ipynb Celda 8\u001b[0m in \u001b[0;36m<cell line: 3>\u001b[0;34m()\u001b[0m\n\u001b[1;32m      <a href='vscode-notebook-cell:/Users/wildbass/Documents/DataScience/se-hackaton/eda.ipynb#X10sZmlsZQ%3D%3D?line=0'>1</a>\u001b[0m \u001b[39mfrom\u001b[39;00m \u001b[39msklearn_evaluation\u001b[39;00m \u001b[39mimport\u001b[39;00m plot\n\u001b[0;32m----> <a href='vscode-notebook-cell:/Users/wildbass/Documents/DataScience/se-hackaton/eda.ipynb#X10sZmlsZQ%3D%3D?line=2'>3</a>\u001b[0m plot\u001b[39m.\u001b[39;49mgrid_search(grid\u001b[39m.\u001b[39;49mcv_results_, change\u001b[39m=\u001b[39;49m\u001b[39m'\u001b[39;49m\u001b[39mn_estimators\u001b[39;49m\u001b[39m'\u001b[39;49m, kind\u001b[39m=\u001b[39;49m\u001b[39m'\u001b[39;49m\u001b[39mline\u001b[39;49m\u001b[39m'\u001b[39;49m)\n",
      "File \u001b[0;32m~/anaconda3/envs/ds/lib/python3.10/site-packages/sklearn_evaluation/telemetry.py:38\u001b[0m, in \u001b[0;36mSKLearnEvaluationLogger.log.<locals>.wrapper.<locals>.inner\u001b[0;34m(*args, **kwargs)\u001b[0m\n\u001b[1;32m     35\u001b[0m     metadata[\u001b[39m'\u001b[39m\u001b[39mexception\u001b[39m\u001b[39m'\u001b[39m] \u001b[39m=\u001b[39m \u001b[39mstr\u001b[39m(e)\n\u001b[1;32m     36\u001b[0m     telemetry\u001b[39m.\u001b[39mlog_api(\n\u001b[1;32m     37\u001b[0m         \u001b[39m'\u001b[39m\u001b[39msklearn-evaluation-error\u001b[39m\u001b[39m'\u001b[39m, metadata\u001b[39m=\u001b[39mmetadata)\n\u001b[0;32m---> 38\u001b[0m     \u001b[39mraise\u001b[39;00m e\n\u001b[1;32m     40\u001b[0m \u001b[39mreturn\u001b[39;00m result\n",
      "File \u001b[0;32m~/anaconda3/envs/ds/lib/python3.10/site-packages/sklearn_evaluation/telemetry.py:33\u001b[0m, in \u001b[0;36mSKLearnEvaluationLogger.log.<locals>.wrapper.<locals>.inner\u001b[0;34m(*args, **kwargs)\u001b[0m\n\u001b[1;32m     30\u001b[0m telemetry\u001b[39m.\u001b[39mlog_api(\u001b[39m'\u001b[39m\u001b[39msklearn-evaluation\u001b[39m\u001b[39m'\u001b[39m, metadata\u001b[39m=\u001b[39mmetadata)\n\u001b[1;32m     32\u001b[0m \u001b[39mtry\u001b[39;00m:\n\u001b[0;32m---> 33\u001b[0m     result \u001b[39m=\u001b[39m func(\u001b[39m*\u001b[39;49margs, \u001b[39m*\u001b[39;49m\u001b[39m*\u001b[39;49mkwargs)\n\u001b[1;32m     34\u001b[0m \u001b[39mexcept\u001b[39;00m \u001b[39mException\u001b[39;00m \u001b[39mas\u001b[39;00m e:\n\u001b[1;32m     35\u001b[0m     metadata[\u001b[39m'\u001b[39m\u001b[39mexception\u001b[39m\u001b[39m'\u001b[39m] \u001b[39m=\u001b[39m \u001b[39mstr\u001b[39m(e)\n",
      "File \u001b[0;32m~/anaconda3/envs/ds/lib/python3.10/site-packages/sklearn_evaluation/plot/grid_search.py:86\u001b[0m, in \u001b[0;36mgrid_search\u001b[0;34m(cv_results_, change, subset, kind, cmap, ax, sort)\u001b[0m\n\u001b[1;32m     79\u001b[0m grid_scores \u001b[39m=\u001b[39m [\n\u001b[1;32m     80\u001b[0m     gs(p, m, s) \u001b[39mfor\u001b[39;00m p, m, s \u001b[39min\u001b[39;00m\n\u001b[1;32m     81\u001b[0m     \u001b[39mzip\u001b[39m(cv_results_[\u001b[39m'\u001b[39m\u001b[39mparams\u001b[39m\u001b[39m'\u001b[39m], cv_results_[\u001b[39m'\u001b[39m\u001b[39mmean_test_score\u001b[39m\u001b[39m'\u001b[39m],\n\u001b[1;32m     82\u001b[0m         cv_results_[\u001b[39m'\u001b[39m\u001b[39mstd_test_score\u001b[39m\u001b[39m'\u001b[39m])\n\u001b[1;32m     83\u001b[0m ]\n\u001b[1;32m     85\u001b[0m \u001b[39mif\u001b[39;00m \u001b[39misinstance\u001b[39m(change, string_types) \u001b[39mor\u001b[39;00m \u001b[39mlen\u001b[39m(change) \u001b[39m==\u001b[39m \u001b[39m1\u001b[39m:\n\u001b[0;32m---> 86\u001b[0m     \u001b[39mreturn\u001b[39;00m _grid_search_single(grid_scores, change, subset, kind, ax, sort)\n\u001b[1;32m     87\u001b[0m \u001b[39melif\u001b[39;00m \u001b[39mlen\u001b[39m(change) \u001b[39m==\u001b[39m \u001b[39m2\u001b[39m:\n\u001b[1;32m     88\u001b[0m     \u001b[39mreturn\u001b[39;00m _grid_search_double(grid_scores, change, subset, cmap, ax, sort)\n",
      "File \u001b[0;32m~/anaconda3/envs/ds/lib/python3.10/site-packages/sklearn_evaluation/plot/grid_search.py:137\u001b[0m, in \u001b[0;36m_grid_search_single\u001b[0;34m(grid_scores, change, subset, kind, ax, sort)\u001b[0m\n\u001b[1;32m    131\u001b[0m     \u001b[39m# bar shifter is just a wrapper around matplotlib's bar plot\u001b[39;00m\n\u001b[1;32m    132\u001b[0m     \u001b[39m# to automatically calculate the left position on each bar\u001b[39;00m\n\u001b[1;32m    133\u001b[0m     bar_shifter \u001b[39m=\u001b[39m BarShifter(g_number\u001b[39m=\u001b[39mchange_unique,\n\u001b[1;32m    134\u001b[0m                              g_size\u001b[39m=\u001b[39m\u001b[39mlen\u001b[39m(groups),\n\u001b[1;32m    135\u001b[0m                              ax\u001b[39m=\u001b[39max)\n\u001b[0;32m--> 137\u001b[0m \u001b[39mfor\u001b[39;00m params_kv, group \u001b[39min\u001b[39;00m _sorted_map_iter(groups, sort):\n\u001b[1;32m    138\u001b[0m     \u001b[39m# get the x and y values for each grid_score on this group\u001b[39;00m\n\u001b[1;32m    139\u001b[0m     \u001b[39m# also calculate the std\u001b[39;00m\n\u001b[1;32m    140\u001b[0m     x \u001b[39m=\u001b[39m [element\u001b[39m.\u001b[39mparameters[change] \u001b[39mfor\u001b[39;00m element \u001b[39min\u001b[39;00m group]\n\u001b[1;32m    141\u001b[0m     y \u001b[39m=\u001b[39m [element\u001b[39m.\u001b[39mmean_validation_score \u001b[39mfor\u001b[39;00m element \u001b[39min\u001b[39;00m group]\n",
      "File \u001b[0;32m~/anaconda3/envs/ds/lib/python3.10/site-packages/sklearn_evaluation/util.py:93\u001b[0m, in \u001b[0;36m_sorted_map_iter\u001b[0;34m(d, sort)\u001b[0m\n\u001b[1;32m     91\u001b[0m         ord_keys \u001b[39m=\u001b[39m \u001b[39msorted\u001b[39m(d\u001b[39m.\u001b[39mkeys())\n\u001b[1;32m     92\u001b[0m     \u001b[39mexcept\u001b[39;00m \u001b[39mTypeError\u001b[39;00m \u001b[39mas\u001b[39;00m e:\n\u001b[0;32m---> 93\u001b[0m         \u001b[39mraise\u001b[39;00m \u001b[39mTypeError\u001b[39;00m(\n\u001b[1;32m     94\u001b[0m             \u001b[39m'\u001b[39m\u001b[39mSorting not supported. Please pass sort=False\u001b[39m\u001b[39m'\u001b[39m) \u001b[39mfrom\u001b[39;00m \u001b[39me\u001b[39;00m\n\u001b[1;32m     95\u001b[0m \u001b[39melse\u001b[39;00m:\n\u001b[1;32m     96\u001b[0m     ord_keys \u001b[39m=\u001b[39m d\u001b[39m.\u001b[39mkeys()\n",
      "\u001b[0;31mTypeError\u001b[0m: Sorting not supported. Please pass sort=False"
     ]
    },
    {
     "data": {
      "image/png": "[encoded data removed]",
      "text/plain": [
       "<Figure size 432x288 with 1 Axes>"
      ]
     },
     "metadata": {
      "needs_background": "light"
     },
     "output_type": "display_data"
    }
   ],
   "source": [
    "from sklearn_evaluation import plot\n",
    "\n",
    "plot.grid_search(grid.cv_results_, change='n_estimators', kind='line')\n"
   ]
  },
  {
   "cell_type": "code",
   "execution_count": 10,
   "metadata": {},
   "outputs": [
    {
     "data": {
      "text/plain": [
       "0.9089253187613844"
      ]
     },
     "execution_count": 10,
     "metadata": {},
     "output_type": "execute_result"
    }
   ],
   "source": [
    "best_model.score(X_test, y_test)"
   ]
  },
  {
   "cell_type": "code",
   "execution_count": 11,
   "metadata": {},
   "outputs": [
    {
     "data": {
      "text/plain": [
       "0.9090468469859571"
      ]
     },
     "execution_count": 11,
     "metadata": {},
     "output_type": "execute_result"
    }
   ],
   "source": [
    "from sklearn.metrics import f1_score\n",
    "\n",
    "sc = f1_score(y_test, best_model.predict(X_test), average='weighted')\n",
    "sc"
   ]
  },
  {
   "cell_type": "code",
   "execution_count": null,
   "metadata": {},
   "outputs": [],
   "source": []
  }
 ],
 "metadata": {
  "kernelspec": {
   "display_name": "Python 3.10.4 ('ds')",
   "language": "python",
   "name": "python3"
  },
  "language_info": {
   "codemirror_mode": {
    "name": "ipython",
    "version": 3
   },
   "file_extension": ".py",
   "mimetype": "text/x-python",
   "name": "python",
   "nbconvert_exporter": "python",
   "pygments_lexer": "ipython3",
   "version": "3.10.4"
  },
  "orig_nbformat": 4,
  "vscode": {
   "interpreter": {
    "hash": "51fb76d8006b5ab0e0c4fcd365bc9e8f1c8f496fafcc4f75d4d513b2517b500d"
   }
  }
 },
 "nbformat": 4,
 "nbformat_minor": 2
}
