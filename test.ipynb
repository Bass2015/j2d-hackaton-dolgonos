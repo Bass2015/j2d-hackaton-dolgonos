{
 "cells": [
  {
   "cell_type": "code",
   "execution_count": 1,
   "metadata": {},
   "outputs": [
    {
     "data": {
      "text/plain": [
       "feature1    0\n",
       "feature2    0\n",
       "feature3    0\n",
       "feature4    0\n",
       "feature5    0\n",
       "feature6    0\n",
       "feature7    0\n",
       "feature8    0\n",
       "target      0\n",
       "dtype: int64"
      ]
     },
     "execution_count": 1,
     "metadata": {},
     "output_type": "execute_result"
    }
   ],
   "source": []
  },
  {
   "cell_type": "code",
   "execution_count": null,
   "metadata": {},
   "outputs": [],
   "source": []
  }
 ],
 "metadata": {
  "kernelspec": {
   "display_name": "Python 3.10.4 ('ds')",
   "language": "python",
   "name": "python3"
  },
  "language_info": {
   "codemirror_mode": {
    "name": "ipython",
    "version": 3
   },
   "file_extension": ".py",
   "mimetype": "text/x-python",
   "name": "python",
   "nbconvert_exporter": "python",
   "pygments_lexer": "ipython3",
   "version": "3.10.4"
  },
  "orig_nbformat": 4,
  "vscode": {
   "interpreter": {
    "hash": "51fb76d8006b5ab0e0c4fcd365bc9e8f1c8f496fafcc4f75d4d513b2517b500d"
   }
  }
 },
 "nbformat": 4,
 "nbformat_minor": 2
}
