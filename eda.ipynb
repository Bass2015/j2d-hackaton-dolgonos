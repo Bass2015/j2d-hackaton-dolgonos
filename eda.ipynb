{
 "cells": [
  {
   "cell_type": "code",
   "execution_count": 1,
   "metadata": {},
   "outputs": [
    {
     "data": {
      "text/html": [
       "<div>\n",
       "<style scoped>\n",
       "    .dataframe tbody tr th:only-of-type {\n",
       "        vertical-align: middle;\n",
       "    }\n",
       "\n",
       "    .dataframe tbody tr th {\n",
       "        vertical-align: top;\n",
       "    }\n",
       "\n",
       "    .dataframe thead th {\n",
       "        text-align: right;\n",
       "    }\n",
       "</style>\n",
       "<table border=\"1\" class=\"dataframe\">\n",
       "  <thead>\n",
       "    <tr style=\"text-align: right;\">\n",
       "      <th></th>\n",
       "      <th>feature1</th>\n",
       "      <th>feature2</th>\n",
       "      <th>feature3</th>\n",
       "      <th>feature4</th>\n",
       "      <th>feature5</th>\n",
       "      <th>feature6</th>\n",
       "      <th>feature7</th>\n",
       "      <th>feature8</th>\n",
       "      <th>target</th>\n",
       "    </tr>\n",
       "  </thead>\n",
       "  <tbody>\n",
       "    <tr>\n",
       "      <th>0</th>\n",
       "      <td>-0.458258</td>\n",
       "      <td>-0.579012</td>\n",
       "      <td>2.886009</td>\n",
       "      <td>-0.075516</td>\n",
       "      <td>1.674060</td>\n",
       "      <td>-2.431912</td>\n",
       "      <td>0.534850</td>\n",
       "      <td>-0.846473</td>\n",
       "      <td>2</td>\n",
       "    </tr>\n",
       "    <tr>\n",
       "      <th>1</th>\n",
       "      <td>1.626615</td>\n",
       "      <td>-0.028332</td>\n",
       "      <td>-1.443184</td>\n",
       "      <td>-1.007447</td>\n",
       "      <td>-0.989093</td>\n",
       "      <td>1.202627</td>\n",
       "      <td>-0.038211</td>\n",
       "      <td>-1.298616</td>\n",
       "      <td>0</td>\n",
       "    </tr>\n",
       "    <tr>\n",
       "      <th>2</th>\n",
       "      <td>1.721356</td>\n",
       "      <td>-0.137676</td>\n",
       "      <td>-1.322593</td>\n",
       "      <td>-1.333187</td>\n",
       "      <td>-0.723713</td>\n",
       "      <td>0.843285</td>\n",
       "      <td>-0.588495</td>\n",
       "      <td>0.066682</td>\n",
       "      <td>0</td>\n",
       "    </tr>\n",
       "    <tr>\n",
       "      <th>3</th>\n",
       "      <td>-0.715103</td>\n",
       "      <td>3.265915</td>\n",
       "      <td>-0.791030</td>\n",
       "      <td>-2.967881</td>\n",
       "      <td>2.497628</td>\n",
       "      <td>-0.277387</td>\n",
       "      <td>-0.551611</td>\n",
       "      <td>0.668354</td>\n",
       "      <td>2</td>\n",
       "    </tr>\n",
       "    <tr>\n",
       "      <th>4</th>\n",
       "      <td>2.944098</td>\n",
       "      <td>0.197871</td>\n",
       "      <td>-2.257025</td>\n",
       "      <td>1.032789</td>\n",
       "      <td>-4.104693</td>\n",
       "      <td>4.716115</td>\n",
       "      <td>-0.380813</td>\n",
       "      <td>-1.393825</td>\n",
       "      <td>0</td>\n",
       "    </tr>\n",
       "  </tbody>\n",
       "</table>\n",
       "</div>"
      ],
      "text/plain": [
       "   feature1  feature2  feature3  feature4  feature5  feature6  feature7  \\\n",
       "0 -0.458258 -0.579012  2.886009 -0.075516  1.674060 -2.431912  0.534850   \n",
       "1  1.626615 -0.028332 -1.443184 -1.007447 -0.989093  1.202627 -0.038211   \n",
       "2  1.721356 -0.137676 -1.322593 -1.333187 -0.723713  0.843285 -0.588495   \n",
       "3 -0.715103  3.265915 -0.791030 -2.967881  2.497628 -0.277387 -0.551611   \n",
       "4  2.944098  0.197871 -2.257025  1.032789 -4.104693  4.716115 -0.380813   \n",
       "\n",
       "   feature8  target  \n",
       "0 -0.846473       2  \n",
       "1 -1.298616       0  \n",
       "2  0.066682       0  \n",
       "3  0.668354       2  \n",
       "4 -1.393825       0  "
      ]
     },
     "execution_count": 1,
     "metadata": {},
     "output_type": "execute_result"
    }
   ],
   "source": [
    "import pandas as pd\n",
    "from sklearn.ensemble import RandomForestClassifier\n",
    "from sklearn.tree import DecisionTreeClassifier\n",
    "from sklearn.model_selection import train_test_split, GridSearchCV\n",
    "\n",
    "train_df = pd.read_csv('./data/train.csv', sep=';')\n",
    "train_df.head()"
   ]
  },
  {
   "cell_type": "code",
   "execution_count": 2,
   "metadata": {},
   "outputs": [
    {
     "data": {
      "text/html": [
       "<div>\n",
       "<style scoped>\n",
       "    .dataframe tbody tr th:only-of-type {\n",
       "        vertical-align: middle;\n",
       "    }\n",
       "\n",
       "    .dataframe tbody tr th {\n",
       "        vertical-align: top;\n",
       "    }\n",
       "\n",
       "    .dataframe thead th {\n",
       "        text-align: right;\n",
       "    }\n",
       "</style>\n",
       "<table border=\"1\" class=\"dataframe\">\n",
       "  <thead>\n",
       "    <tr style=\"text-align: right;\">\n",
       "      <th></th>\n",
       "      <th>feature1</th>\n",
       "      <th>feature2</th>\n",
       "      <th>feature3</th>\n",
       "      <th>feature4</th>\n",
       "      <th>feature5</th>\n",
       "      <th>feature6</th>\n",
       "      <th>feature7</th>\n",
       "      <th>feature8</th>\n",
       "      <th>target</th>\n",
       "    </tr>\n",
       "  </thead>\n",
       "  <tbody>\n",
       "    <tr>\n",
       "      <th>count</th>\n",
       "      <td>2100.000000</td>\n",
       "      <td>2100.000000</td>\n",
       "      <td>2100.000000</td>\n",
       "      <td>2100.000000</td>\n",
       "      <td>2100.000000</td>\n",
       "      <td>2100.000000</td>\n",
       "      <td>2100.000000</td>\n",
       "      <td>2100.000000</td>\n",
       "      <td>2100.000000</td>\n",
       "    </tr>\n",
       "    <tr>\n",
       "      <th>mean</th>\n",
       "      <td>-0.318846</td>\n",
       "      <td>0.005348</td>\n",
       "      <td>-0.327567</td>\n",
       "      <td>0.024042</td>\n",
       "      <td>0.085851</td>\n",
       "      <td>-0.065000</td>\n",
       "      <td>-0.025603</td>\n",
       "      <td>-0.004437</td>\n",
       "      <td>0.985238</td>\n",
       "    </tr>\n",
       "    <tr>\n",
       "      <th>std</th>\n",
       "      <td>1.575061</td>\n",
       "      <td>1.605428</td>\n",
       "      <td>1.479745</td>\n",
       "      <td>1.548154</td>\n",
       "      <td>1.788543</td>\n",
       "      <td>2.124337</td>\n",
       "      <td>1.015619</td>\n",
       "      <td>1.003342</td>\n",
       "      <td>0.815098</td>\n",
       "    </tr>\n",
       "    <tr>\n",
       "      <th>min</th>\n",
       "      <td>-5.031501</td>\n",
       "      <td>-6.004578</td>\n",
       "      <td>-5.470794</td>\n",
       "      <td>-5.296172</td>\n",
       "      <td>-5.719499</td>\n",
       "      <td>-4.910575</td>\n",
       "      <td>-3.850552</td>\n",
       "      <td>-3.541608</td>\n",
       "      <td>0.000000</td>\n",
       "    </tr>\n",
       "    <tr>\n",
       "      <th>25%</th>\n",
       "      <td>-1.406249</td>\n",
       "      <td>-1.119150</td>\n",
       "      <td>-1.368208</td>\n",
       "      <td>-1.083716</td>\n",
       "      <td>-1.136441</td>\n",
       "      <td>-1.613267</td>\n",
       "      <td>-0.701442</td>\n",
       "      <td>-0.659096</td>\n",
       "      <td>0.000000</td>\n",
       "    </tr>\n",
       "    <tr>\n",
       "      <th>50%</th>\n",
       "      <td>-0.431219</td>\n",
       "      <td>-0.162577</td>\n",
       "      <td>-0.532158</td>\n",
       "      <td>0.152545</td>\n",
       "      <td>0.102788</td>\n",
       "      <td>-0.431328</td>\n",
       "      <td>-0.007598</td>\n",
       "      <td>-0.019797</td>\n",
       "      <td>1.000000</td>\n",
       "    </tr>\n",
       "    <tr>\n",
       "      <th>75%</th>\n",
       "      <td>0.773896</td>\n",
       "      <td>1.127450</td>\n",
       "      <td>0.573801</td>\n",
       "      <td>1.173172</td>\n",
       "      <td>1.507492</td>\n",
       "      <td>1.162813</td>\n",
       "      <td>0.665932</td>\n",
       "      <td>0.667530</td>\n",
       "      <td>2.000000</td>\n",
       "    </tr>\n",
       "    <tr>\n",
       "      <th>max</th>\n",
       "      <td>5.388387</td>\n",
       "      <td>7.663112</td>\n",
       "      <td>4.869581</td>\n",
       "      <td>4.318758</td>\n",
       "      <td>6.033273</td>\n",
       "      <td>7.053420</td>\n",
       "      <td>4.400697</td>\n",
       "      <td>3.579874</td>\n",
       "      <td>2.000000</td>\n",
       "    </tr>\n",
       "  </tbody>\n",
       "</table>\n",
       "</div>"
      ],
      "text/plain": [
       "          feature1     feature2     feature3     feature4     feature5  \\\n",
       "count  2100.000000  2100.000000  2100.000000  2100.000000  2100.000000   \n",
       "mean     -0.318846     0.005348    -0.327567     0.024042     0.085851   \n",
       "std       1.575061     1.605428     1.479745     1.548154     1.788543   \n",
       "min      -5.031501    -6.004578    -5.470794    -5.296172    -5.719499   \n",
       "25%      -1.406249    -1.119150    -1.368208    -1.083716    -1.136441   \n",
       "50%      -0.431219    -0.162577    -0.532158     0.152545     0.102788   \n",
       "75%       0.773896     1.127450     0.573801     1.173172     1.507492   \n",
       "max       5.388387     7.663112     4.869581     4.318758     6.033273   \n",
       "\n",
       "          feature6     feature7     feature8       target  \n",
       "count  2100.000000  2100.000000  2100.000000  2100.000000  \n",
       "mean     -0.065000    -0.025603    -0.004437     0.985238  \n",
       "std       2.124337     1.015619     1.003342     0.815098  \n",
       "min      -4.910575    -3.850552    -3.541608     0.000000  \n",
       "25%      -1.613267    -0.701442    -0.659096     0.000000  \n",
       "50%      -0.431328    -0.007598    -0.019797     1.000000  \n",
       "75%       1.162813     0.665932     0.667530     2.000000  \n",
       "max       7.053420     4.400697     3.579874     2.000000  "
      ]
     },
     "execution_count": 2,
     "metadata": {},
     "output_type": "execute_result"
    }
   ],
   "source": [
    "train_df.describe()"
   ]
  },
  {
   "cell_type": "code",
   "execution_count": 3,
   "metadata": {},
   "outputs": [
    {
     "name": "stdout",
     "output_type": "stream",
     "text": [
      "Dataset shape: (2100, 9), Train shape: (1551, 8), Test shape: (549, 8), Split ratio: 0.26\n"
     ]
    }
   ],
   "source": [
    "split_ratio = 1/((len(train_df.columns)-1)**0.5 +1)\n",
    "\n",
    "data = train_df.drop('target', axis=1)\n",
    "target = train_df['target']\n",
    "\n",
    "X_train, X_test, y_train, y_test = train_test_split(data, target, test_size=split_ratio)\n",
    "print(f'Dataset shape: {train_df.shape}, Train shape: {X_train.shape}, Test shape: {X_test.shape}, Split ratio: {split_ratio:0.2f}')\n"
   ]
  },
  {
   "cell_type": "code",
   "execution_count": 5,
   "metadata": {},
   "outputs": [
    {
     "data": {
      "text/plain": [
       "0.848816029143898"
      ]
     },
     "execution_count": 5,
     "metadata": {},
     "output_type": "execute_result"
    }
   ],
   "source": [
    "model = DecisionTreeClassifier()\n",
    "model.fit(X_train, y_train)\n",
    "model.score(X_test, y_test)"
   ]
  },
  {
   "cell_type": "code",
   "execution_count": 6,
   "metadata": {},
   "outputs": [
    {
     "data": {
      "text/plain": [
       "15"
      ]
     },
     "execution_count": 6,
     "metadata": {},
     "output_type": "execute_result"
    }
   ],
   "source": [
    "model.get_depth()"
   ]
  },
  {
   "cell_type": "code",
   "execution_count": 4,
   "metadata": {},
   "outputs": [
    {
     "name": "stdout",
     "output_type": "stream",
     "text": [
      "Fitting 5 folds for each of 12 candidates, totalling 60 fits\n"
     ]
    },
    {
     "data": {
      "text/plain": [
       "GridSearchCV(cv=5, estimator=RandomForestClassifier(),\n",
       "             param_grid={'criterion': ['gini', 'entropy'],\n",
       "                         'max_features': ['sqrt', 0.33, 0.4, 0.66, 0.8, 1]},\n",
       "             verbose=True)"
      ]
     },
     "execution_count": 4,
     "metadata": {},
     "output_type": "execute_result"
    }
   ],
   "source": [
    "params = {'max_depth': range(10, 18, 2), \n",
    "          'n_estimators': 1000,\n",
    "          'criterion':['gini', 'entropy'], \n",
    "          'max_features': ['sqrt', 0.33,0.4,0.66,0.8,1]\n",
    "        }\n",
    "params = {'criterion':['gini', 'entropy'], \n",
    "          'max_features': ['sqrt', 0.33,0.4,0.66,0.8,1]\n",
    "        }\n",
    "grid = GridSearchCV(RandomForestClassifier(),\n",
    "                    params, \n",
    "                    cv=5,\n",
    "                    verbose=True)\n",
    "grid.fit(X_train, y_train)"
   ]
  },
  {
   "cell_type": "code",
   "execution_count": 5,
   "metadata": {},
   "outputs": [
    {
     "data": {
      "text/plain": [
       "{'bootstrap': True,\n",
       " 'ccp_alpha': 0.0,\n",
       " 'class_weight': None,\n",
       " 'criterion': 'entropy',\n",
       " 'max_depth': None,\n",
       " 'max_features': 0.4,\n",
       " 'max_leaf_nodes': None,\n",
       " 'max_samples': None,\n",
       " 'min_impurity_decrease': 0.0,\n",
       " 'min_samples_leaf': 1,\n",
       " 'min_samples_split': 2,\n",
       " 'min_weight_fraction_leaf': 0.0,\n",
       " 'n_estimators': 100,\n",
       " 'n_jobs': None,\n",
       " 'oob_score': False,\n",
       " 'random_state': None,\n",
       " 'verbose': 0,\n",
       " 'warm_start': False}"
      ]
     },
     "execution_count": 5,
     "metadata": {},
     "output_type": "execute_result"
    }
   ],
   "source": [
    "best_model = grid.best_estimator_\n",
    "best_model.score(X_test, y_test)\n",
    "best_model.get_params()"
   ]
  },
  {
   "cell_type": "code",
   "execution_count": 6,
   "metadata": {},
   "outputs": [
    {
     "data": {
      "text/plain": [
       "<AxesSubplot:title={'center':'Grid search results'}, xlabel='max_features', ylabel='Mean score'>"
      ]
     },
     "execution_count": 6,
     "metadata": {},
     "output_type": "execute_result"
    },
    {
     "data": {
      "image/png": "[encoded data removed]",
      "text/plain": [
       "<Figure size 432x288 with 1 Axes>"
      ]
     },
     "metadata": {
      "needs_background": "light"
     },
     "output_type": "display_data"
    }
   ],
   "source": [
    "from sklearn_evaluation import plot\n",
    "\n",
    "plot.grid_search(grid.cv_results_, change='max_features', kind='line')\n"
   ]
  },
  {
   "cell_type": "code",
   "execution_count": 7,
   "metadata": {},
   "outputs": [
    {
     "data": {
      "text/plain": [
       "0.9143897996357013"
      ]
     },
     "execution_count": 7,
     "metadata": {},
     "output_type": "execute_result"
    }
   ],
   "source": [
    "best_model.score(X_test, y_test)"
   ]
  },
  {
   "cell_type": "code",
   "execution_count": 8,
   "metadata": {},
   "outputs": [
    {
     "data": {
      "text/plain": [
       "0.9145413212549942"
      ]
     },
     "execution_count": 8,
     "metadata": {},
     "output_type": "execute_result"
    }
   ],
   "source": [
    "from sklearn.metrics import f1_score\n",
    "\n",
    "sc = f1_score(y_test, best_model.predict(X_test), average='weighted')\n",
    "sc"
   ]
  },
  {
   "cell_type": "code",
   "execution_count": 14,
   "metadata": {},
   "outputs": [],
   "source": [
    "import pickle\n",
    "\n",
    "file = 'grid.sav'\n",
    "with open(file, 'wb') as f:\n",
    "    pickle.dump(grid, f)"
   ]
  },
  {
   "cell_type": "code",
   "execution_count": 15,
   "metadata": {},
   "outputs": [
    {
     "data": {
      "text/plain": [
       "{'mean_fit_time': array([0.16716423, 0.16464915, 0.20907779, 0.27554884, 0.3194603 ,\n",
       "        0.13100691, 0.2045506 , 0.2035006 , 0.25121961, 0.35469623,\n",
       "        0.42028017, 0.16724086]),\n",
       " 'std_fit_time': array([0.00117445, 0.00073465, 0.01349863, 0.00354731, 0.01299767,\n",
       "        0.00188072, 0.00199612, 0.00138943, 0.00282179, 0.006244  ,\n",
       "        0.01338911, 0.00880766]),\n",
       " 'mean_score_time': array([0.00834231, 0.00816789, 0.00888963, 0.00802817, 0.0078371 ,\n",
       "        0.00856662, 0.00807314, 0.00808682, 0.00795789, 0.00812707,\n",
       "        0.00803084, 0.00873861]),\n",
       " 'std_score_time': array([1.49931767e-04, 2.61224957e-05, 1.24629288e-03, 1.23345948e-04,\n",
       "        1.49356283e-04, 3.09875994e-04, 6.63909744e-05, 5.49831910e-05,\n",
       "        5.44159579e-05, 5.39135814e-04, 2.44544411e-04, 4.41698499e-04]),\n",
       " 'param_criterion': masked_array(data=['gini', 'gini', 'gini', 'gini', 'gini', 'gini',\n",
       "                    'entropy', 'entropy', 'entropy', 'entropy', 'entropy',\n",
       "                    'entropy'],\n",
       "              mask=[False, False, False, False, False, False, False, False,\n",
       "                    False, False, False, False],\n",
       "        fill_value='?',\n",
       "             dtype=object),\n",
       " 'param_max_features': masked_array(data=['sqrt', 0.33, 0.4, 0.66, 0.8, 1, 'sqrt', 0.33, 0.4,\n",
       "                    0.66, 0.8, 1],\n",
       "              mask=[False, False, False, False, False, False, False, False,\n",
       "                    False, False, False, False],\n",
       "        fill_value='?',\n",
       "             dtype=object),\n",
       " 'params': [{'criterion': 'gini', 'max_features': 'sqrt'},\n",
       "  {'criterion': 'gini', 'max_features': 0.33},\n",
       "  {'criterion': 'gini', 'max_features': 0.4},\n",
       "  {'criterion': 'gini', 'max_features': 0.66},\n",
       "  {'criterion': 'gini', 'max_features': 0.8},\n",
       "  {'criterion': 'gini', 'max_features': 1},\n",
       "  {'criterion': 'entropy', 'max_features': 'sqrt'},\n",
       "  {'criterion': 'entropy', 'max_features': 0.33},\n",
       "  {'criterion': 'entropy', 'max_features': 0.4},\n",
       "  {'criterion': 'entropy', 'max_features': 0.66},\n",
       "  {'criterion': 'entropy', 'max_features': 0.8},\n",
       "  {'criterion': 'entropy', 'max_features': 1}],\n",
       " 'split0_test_score': array([0.87459807, 0.88424437, 0.88745981, 0.88102894, 0.88424437,\n",
       "        0.8681672 , 0.87138264, 0.88424437, 0.8778135 , 0.87459807,\n",
       "        0.88102894, 0.87138264]),\n",
       " 'split1_test_score': array([0.90322581, 0.89677419, 0.89032258, 0.89354839, 0.88709677,\n",
       "        0.89354839, 0.89354839, 0.89032258, 0.9       , 0.90322581,\n",
       "        0.9       , 0.88387097]),\n",
       " 'split2_test_score': array([0.91935484, 0.90967742, 0.92903226, 0.90645161, 0.91290323,\n",
       "        0.91290323, 0.92580645, 0.91290323, 0.93870968, 0.93548387,\n",
       "        0.92580645, 0.91290323]),\n",
       " 'split3_test_score': array([0.91935484, 0.91290323, 0.92258065, 0.92903226, 0.91612903,\n",
       "        0.91935484, 0.92580645, 0.92258065, 0.91935484, 0.91612903,\n",
       "        0.91935484, 0.92580645]),\n",
       " 'split4_test_score': array([0.90645161, 0.90967742, 0.91290323, 0.91935484, 0.91612903,\n",
       "        0.91290323, 0.92258065, 0.93225806, 0.92258065, 0.92258065,\n",
       "        0.92258065, 0.90967742]),\n",
       " 'mean_test_score': array([0.90459703, 0.90265533, 0.9084597 , 0.90588321, 0.90330049,\n",
       "        0.90137538, 0.90782491, 0.90846178, 0.91169173, 0.91040349,\n",
       "        0.90975417, 0.90072814]),\n",
       " 'std_test_score': array([0.01637585, 0.01074421, 0.01680671, 0.01724859, 0.01447102,\n",
       "        0.01872479, 0.02189183, 0.01844367, 0.02093653, 0.02070574,\n",
       "        0.01693901, 0.02001283]),\n",
       " 'rank_test_score': array([ 8, 10,  5,  7,  9, 11,  6,  4,  1,  2,  3, 12], dtype=int32)}"
      ]
     },
     "execution_count": 15,
     "metadata": {},
     "output_type": "execute_result"
    }
   ],
   "source": [
    "with open(file, 'rb') as f:\n",
    "    loaded_model = pickle.load(f)\n",
    "\n",
    "loaded_model.cv_results_\n"
   ]
  },
  {
   "cell_type": "code",
   "execution_count": 24,
   "metadata": {},
   "outputs": [],
   "source": [
    "import numpy as np\n",
    "pred = best_model.predict(pd.read_csv('./data/test.csv', sep=';')).astype(int)\n",
    "np.savetxt('intprediction_test.csv', pred, delimiter=';', fmt='%i', header='target')"
   ]
  },
  {
   "cell_type": "code",
   "execution_count": 25,
   "metadata": {},
   "outputs": [
    {
     "data": {
      "text/plain": [
       "(900,)"
      ]
     },
     "execution_count": 25,
     "metadata": {},
     "output_type": "execute_result"
    }
   ],
   "source": [
    "pred.shape"
   ]
  },
  {
   "cell_type": "code",
   "execution_count": 38,
   "metadata": {},
   "outputs": [],
   "source": [
    "import json\n",
    "\n",
    "class NpEncoder(json.JSONEncoder):\n",
    "    def default(self, obj):\n",
    "        if isinstance(obj, np.integer):\n",
    "            return int(obj)\n",
    "\n",
    "pred_dict = {'target':{}}\n",
    "pred_dict['target'] = dict(enumerate(pred))\n",
    "with open('predictions.json', 'w') as file:\n",
    "    json.dump(pred_dict, file, cls=NpEncoder)\n"
   ]
  },
  {
   "cell_type": "code",
   "execution_count": 37,
   "metadata": {},
   "outputs": [
    {
     "data": {
      "text/plain": [
       "{'target': {}}"
      ]
     },
     "execution_count": 37,
     "metadata": {},
     "output_type": "execute_result"
    }
   ],
   "source": [
    "pred_"
   ]
  },
  {
   "cell_type": "code",
   "execution_count": null,
   "metadata": {},
   "outputs": [],
   "source": []
  }
 ],
 "metadata": {
  "kernelspec": {
   "display_name": "Python 3.10.4 ('ds')",
   "language": "python",
   "name": "python3"
  },
  "language_info": {
   "codemirror_mode": {
    "name": "ipython",
    "version": 3
   },
   "file_extension": ".py",
   "mimetype": "text/x-python",
   "name": "python",
   "nbconvert_exporter": "python",
   "pygments_lexer": "ipython3",
   "version": "3.10.4"
  },
  "orig_nbformat": 4,
  "vscode": {
   "interpreter": {
    "hash": "51fb76d8006b5ab0e0c4fcd365bc9e8f1c8f496fafcc4f75d4d513b2517b500d"
   }
  }
 },
 "nbformat": 4,
 "nbformat_minor": 2
}
